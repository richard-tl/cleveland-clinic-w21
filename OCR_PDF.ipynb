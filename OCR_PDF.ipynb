{
  "nbformat": 4,
  "nbformat_minor": 0,
  "metadata": {
    "colab": {
      "name": "OCR_PDF.ipynb",
      "provenance": [],
      "collapsed_sections": []
    },
    "kernelspec": {
      "name": "python3",
      "display_name": "Python 3"
    }
  },
  "cells": [
    {
      "cell_type": "code",
      "metadata": {
        "colab": {
          "base_uri": "https://localhost:8080/"
        },
        "id": "hCKFPlnvSovh",
        "outputId": "34a8bdb3-4805-4895-91ea-6fd2044fecd2"
      },
      "source": [
        "!apt-get install ocrmypdf -q\r\n",
        "!pip install pdfplumber -q\r\n",
        "#https://github.com/jbarlow83/OCRmyPDF\r\n",
        "import os\r\n",
        "import requests\r\n",
        "import pdfplumber"
      ],
      "execution_count": 28,
      "outputs": [
        {
          "output_type": "stream",
          "text": [
            "Reading package lists...\n",
            "Building dependency tree...\n",
            "Reading state information...\n",
            "ocrmypdf is already the newest version (6.1.2-1ubuntu1.1).\n",
            "0 upgraded, 0 newly installed, 0 to remove and 17 not upgraded.\n"
          ],
          "name": "stdout"
        }
      ]
    },
    {
      "cell_type": "code",
      "metadata": {
        "id": "CPzEcf69UoTC"
      },
      "source": [
        "#sample pdf: http://www.africau.edu/images/default/sample.pdf\r\n",
        "def get_file(url):\r\n",
        "  filename = url.split('/')[-1]\r\n",
        "\r\n",
        "  with requests.get(url) as r:\r\n",
        "    assert r.status_code == 200, f'error, status code is {r.status_code}'\r\n",
        "    with open (filename, 'wb') as f:\r\n",
        "      f.write(r.content)\r\n",
        "  return filename"
      ],
      "execution_count": 29,
      "outputs": []
    },
    {
      "cell_type": "code",
      "metadata": {
        "id": "VhP_7_w3VgkR"
      },
      "source": [
        "sample = 'http://www.africau.edu/images/default/sample.pdf'\r\n",
        "sample_pdf = get_file(sample)"
      ],
      "execution_count": 30,
      "outputs": []
    },
    {
      "cell_type": "code",
      "metadata": {
        "colab": {
          "base_uri": "https://localhost:8080/",
          "height": 36
        },
        "id": "0wsYTlyQVuQJ",
        "outputId": "3fee8895-03cf-4590-abc3-b8dcb62f5ac6"
      },
      "source": [
        "sample_pdf"
      ],
      "execution_count": 31,
      "outputs": [
        {
          "output_type": "execute_result",
          "data": {
            "application/vnd.google.colaboratory.intrinsic+json": {
              "type": "string"
            },
            "text/plain": [
              "'sample.pdf'"
            ]
          },
          "metadata": {
            "tags": []
          },
          "execution_count": 31
        }
      ]
    },
    {
      "cell_type": "code",
      "metadata": {
        "colab": {
          "base_uri": "https://localhost:8080/"
        },
        "id": "7ascqAUaWdKG",
        "outputId": "f19d58bc-70f6-4865-af3c-bc8f45b7c6b8"
      },
      "source": [
        "with pdfplumber.open(sample_pdf) as pdf:\r\n",
        "  page1 = pdf.pages[0]\r\n",
        "  page2 = pdf.pages[1]\r\n",
        "  text = page1.extract_text()\r\n",
        "  text += \"\\n\\n\"\r\n",
        "  text += page2.extract_text()\r\n",
        "  print(text)"
      ],
      "execution_count": 45,
      "outputs": [
        {
          "output_type": "stream",
          "text": [
            " A Simple PDF File \n",
            " This is a small demonstration .pdf file - \n",
            " just for use in the Virtual Mechanics tutorials. More text. And more \n",
            " text. And more text. And more text. And more text. \n",
            " And more text. And more text. And more text. And more text. And more \n",
            " text. And more text. Boring, zzzzz. And more text. And more text. And \n",
            " more text. And more text. And more text. And more text. And more text. \n",
            " And more text. And more text. \n",
            " And more text. And more text. And more text. And more text. And more \n",
            " text. And more text. And more text. Even more. Continued on page 2 ...\n",
            "\n",
            " Simple PDF File 2 \n",
            " ...continued from page 1. Yet more text. And more text. And more text. \n",
            " And more text. And more text. And more text. And more text. And more \n",
            " text. Oh, how boring typing this stuff. But not as boring as watching \n",
            " paint dry. And more text. And more text. And more text. And more text. \n",
            " Boring.  More, a little more text. The end, and just as well. \n"
          ],
          "name": "stdout"
        }
      ]
    },
    {
      "cell_type": "code",
      "metadata": {
        "colab": {
          "base_uri": "https://localhost:8080/"
        },
        "id": "iui54uTQXu9Z",
        "outputId": "45e4012d-7413-463a-c8f6-11b18c7369f3"
      },
      "source": [
        "lines = text.split('\\n')\r\n",
        "lines"
      ],
      "execution_count": 46,
      "outputs": [
        {
          "output_type": "execute_result",
          "data": {
            "text/plain": [
              "[' A Simple PDF File ',\n",
              " ' This is a small demonstration .pdf file - ',\n",
              " ' just for use in the Virtual Mechanics tutorials. More text. And more ',\n",
              " ' text. And more text. And more text. And more text. ',\n",
              " ' And more text. And more text. And more text. And more text. And more ',\n",
              " ' text. And more text. Boring, zzzzz. And more text. And more text. And ',\n",
              " ' more text. And more text. And more text. And more text. And more text. ',\n",
              " ' And more text. And more text. ',\n",
              " ' And more text. And more text. And more text. And more text. And more ',\n",
              " ' text. And more text. And more text. Even more. Continued on page 2 ...',\n",
              " '',\n",
              " ' Simple PDF File 2 ',\n",
              " ' ...continued from page 1. Yet more text. And more text. And more text. ',\n",
              " ' And more text. And more text. And more text. And more text. And more ',\n",
              " ' text. Oh, how boring typing this stuff. But not as boring as watching ',\n",
              " ' paint dry. And more text. And more text. And more text. And more text. ',\n",
              " ' Boring.  More, a little more text. The end, and just as well. ']"
            ]
          },
          "metadata": {
            "tags": []
          },
          "execution_count": 46
        }
      ]
    },
    {
      "cell_type": "code",
      "metadata": {
        "colab": {
          "base_uri": "https://localhost:8080/"
        },
        "id": "y3CCEqfqYA0x",
        "outputId": "4b3a5ae8-be0b-4e43-a01b-b8c528516727"
      },
      "source": [
        "#search lines for word 'text'\r\n",
        "import re\r\n",
        "search = re.compile(r'text')\r\n",
        "for line in lines:\r\n",
        "  if search.search(line):\r\n",
        "    print(line)"
      ],
      "execution_count": 47,
      "outputs": [
        {
          "output_type": "stream",
          "text": [
            " just for use in the Virtual Mechanics tutorials. More text. And more \n",
            " text. And more text. And more text. And more text. \n",
            " And more text. And more text. And more text. And more text. And more \n",
            " text. And more text. Boring, zzzzz. And more text. And more text. And \n",
            " more text. And more text. And more text. And more text. And more text. \n",
            " And more text. And more text. \n",
            " And more text. And more text. And more text. And more text. And more \n",
            " text. And more text. And more text. Even more. Continued on page 2 ...\n",
            " ...continued from page 1. Yet more text. And more text. And more text. \n",
            " And more text. And more text. And more text. And more text. And more \n",
            " text. Oh, how boring typing this stuff. But not as boring as watching \n",
            " paint dry. And more text. And more text. And more text. And more text. \n",
            " Boring.  More, a little more text. The end, and just as well. \n"
          ],
          "name": "stdout"
        }
      ]
    }
  ]
}